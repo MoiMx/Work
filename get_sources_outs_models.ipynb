{
 "cells": [
  {
   "cell_type": "code",
   "execution_count": 1,
   "metadata": {
    "collapsed": true
   },
   "outputs": [],
   "source": [
    "import gzip\n",
    "import html \n",
    "import json\n",
    "import os\n",
    "import pandas as pd\n",
    "import numpy as np"
   ]
  },
  {
   "cell_type": "code",
   "execution_count": 8,
   "metadata": {
    "collapsed": false
   },
   "outputs": [
    {
     "data": {
      "text/plain": [
       "['2TC',\n",
       " 'ADQ_VEH',\n",
       " 'BLINDTD',\n",
       " 'Bloque2_Modificado',\n",
       " 'CD_TC',\n",
       " 'CHURN_AGILE_SIMPLE',\n",
       " 'CHURN_CLIENTE',\n",
       " 'CONVENIOS',\n",
       " 'CS',\n",
       " 'CTA_Simple',\n",
       " 'CTS',\n",
       " 'EC',\n",
       " 'Fondos_Mutuos',\n",
       " 'Fuga_Ahorros',\n",
       " 'Grant_Tablas',\n",
       " 'HIPOTECARIO',\n",
       " 'IL_TC',\n",
       " 'PP',\n",
       " 'SEGUROS',\n",
       " 'Tablero_Convenios']"
      ]
     },
     "execution_count": 8,
     "metadata": {},
     "output_type": "execute_result"
    }
   ],
   "source": [
    "dir_models = './Modelo_Replica'\n",
    "y_dirs = os.listdir(dir_yelp)\n",
    "#Output dir \n",
    "#if not os.path.exists(out_dir):\n",
    "#    os.makedirs(out_dir)\n",
    "y_dirs"
   ]
  },
  {
   "cell_type": "code",
   "execution_count": 17,
   "metadata": {
    "collapsed": false
   },
   "outputs": [
    {
     "data": {
      "text/plain": [
       "True"
      ]
     },
     "execution_count": 17,
     "metadata": {},
     "output_type": "execute_result"
    }
   ],
   "source": [
    "os.access(dir_models+ '/'+y_dir, os.R_OK)"
   ]
  },
  {
   "cell_type": "code",
   "execution_count": 160,
   "metadata": {
    "collapsed": false
   },
   "outputs": [
    {
     "name": "stdout",
     "output_type": "stream",
     "text": [
      "00_Validar_Fuentes_2TC.sql\n",
      "fuente 16 16 1\n",
      "creados 0 []\n",
      "01_Matriz_2TC.sql\n",
      "fuente 35 35 10\n",
      "creados 9 ['LLR_RTMP_MODEL_2TC_V0', 'LLR_RTMP_MODEL_2TC_V0', 'LLR_RTMP_CLIENTE_2TC_V1', 'LLR_RTMP_MODEL_2TC_V1', 'LLR_RTMP_MODEL_2TC_V1', 'LLR_RTMP_MODEL_2TC_V2', 'LLR_RTMP_MODEL_2TC_V3', 'LLR_RTMP_MODEL_2TC_V4', 'LLR_RTMP_MATRIZ_2TC_FINAL']\n",
      "02_Validar_Matriz_2TC.sql\n",
      "fuente 56 56 10\n",
      "creados 9 ['LLR_RTMP_MODEL_2TC_V0', 'LLR_RTMP_MODEL_2TC_V0', 'LLR_RTMP_CLIENTE_2TC_V1', 'LLR_RTMP_MODEL_2TC_V1', 'LLR_RTMP_MODEL_2TC_V1', 'LLR_RTMP_MODEL_2TC_V2', 'LLR_RTMP_MODEL_2TC_V3', 'LLR_RTMP_MODEL_2TC_V4', 'LLR_RTMP_MATRIZ_2TC_FINAL']\n",
      "03_Score_2TC.sql\n",
      "fuente 66 66 17\n",
      "creados 20 ['LLR_RTMP_MODEL_2TC_V0', 'LLR_RTMP_MODEL_2TC_V0', 'LLR_RTMP_CLIENTE_2TC_V1', 'LLR_RTMP_MODEL_2TC_V1', 'LLR_RTMP_MODEL_2TC_V1', 'LLR_RTMP_MODEL_2TC_V2', 'LLR_RTMP_MODEL_2TC_V3', 'LLR_RTMP_MODEL_2TC_V4', 'LLR_RTMP_MATRIZ_2TC_FINAL', 'LLR_RTMP_PROBA_TABLE_2TC_V0(CODMES', 'LLR_RTMP_PROBA_TABLE_2TC(CODMES', 'LLR_RTMP_PROBA_TABLE_2TC', 'LLR_RTMP_PROBA_TABLE_2TC_V0', 'LLR_RTMP_MATRIZ_FINAL_2TC_V0', 'LLR_RTMP_PROBA_TABLE_2TC_V0(CODMES', 'LLR_RTMP_PROBA_TABLE_2TC(CODMES', 'LLR_RTMP_PROBA_TABLE_2TC', 'LLR_RTMP_PROBA_TABLE_2TC_V0', 'CRMA_MOD_REP_2TC', 'CRMA_MOD_REP_2TC_1']\n",
      "04_Validar_Score_2TC.sql\n",
      "fuente 68 68 17\n",
      "creados 20 ['LLR_RTMP_MODEL_2TC_V0', 'LLR_RTMP_MODEL_2TC_V0', 'LLR_RTMP_CLIENTE_2TC_V1', 'LLR_RTMP_MODEL_2TC_V1', 'LLR_RTMP_MODEL_2TC_V1', 'LLR_RTMP_MODEL_2TC_V2', 'LLR_RTMP_MODEL_2TC_V3', 'LLR_RTMP_MODEL_2TC_V4', 'LLR_RTMP_MATRIZ_2TC_FINAL', 'LLR_RTMP_PROBA_TABLE_2TC_V0(CODMES', 'LLR_RTMP_PROBA_TABLE_2TC(CODMES', 'LLR_RTMP_PROBA_TABLE_2TC', 'LLR_RTMP_PROBA_TABLE_2TC_V0', 'LLR_RTMP_MATRIZ_FINAL_2TC_V0', 'LLR_RTMP_PROBA_TABLE_2TC_V0(CODMES', 'LLR_RTMP_PROBA_TABLE_2TC(CODMES', 'LLR_RTMP_PROBA_TABLE_2TC', 'LLR_RTMP_PROBA_TABLE_2TC_V0', 'CRMA_MOD_REP_2TC', 'CRMA_MOD_REP_2TC_1']\n",
      "00_Validar_Fuentes_ADQ_VEH.sql\n",
      "fuente 82 82 17\n",
      "creados 20 ['LLR_RTMP_MODEL_2TC_V0', 'LLR_RTMP_MODEL_2TC_V0', 'LLR_RTMP_CLIENTE_2TC_V1', 'LLR_RTMP_MODEL_2TC_V1', 'LLR_RTMP_MODEL_2TC_V1', 'LLR_RTMP_MODEL_2TC_V2', 'LLR_RTMP_MODEL_2TC_V3', 'LLR_RTMP_MODEL_2TC_V4', 'LLR_RTMP_MATRIZ_2TC_FINAL', 'LLR_RTMP_PROBA_TABLE_2TC_V0(CODMES', 'LLR_RTMP_PROBA_TABLE_2TC(CODMES', 'LLR_RTMP_PROBA_TABLE_2TC', 'LLR_RTMP_PROBA_TABLE_2TC_V0', 'LLR_RTMP_MATRIZ_FINAL_2TC_V0', 'LLR_RTMP_PROBA_TABLE_2TC_V0(CODMES', 'LLR_RTMP_PROBA_TABLE_2TC(CODMES', 'LLR_RTMP_PROBA_TABLE_2TC', 'LLR_RTMP_PROBA_TABLE_2TC_V0', 'CRMA_MOD_REP_2TC', 'CRMA_MOD_REP_2TC_1']\n",
      "01_Matriz_ADQ_VEH.sql\n",
      "fuente 106 106 27\n",
      "creados 30 ['LLR_RTMP_MODEL_2TC_V0', 'LLR_RTMP_MODEL_2TC_V0', 'LLR_RTMP_CLIENTE_2TC_V1', 'LLR_RTMP_MODEL_2TC_V1', 'LLR_RTMP_MODEL_2TC_V1', 'LLR_RTMP_MODEL_2TC_V2', 'LLR_RTMP_MODEL_2TC_V3', 'LLR_RTMP_MODEL_2TC_V4', 'LLR_RTMP_MATRIZ_2TC_FINAL', 'LLR_RTMP_PROBA_TABLE_2TC_V0(CODMES', 'LLR_RTMP_PROBA_TABLE_2TC(CODMES', 'LLR_RTMP_PROBA_TABLE_2TC', 'LLR_RTMP_PROBA_TABLE_2TC_V0', 'LLR_RTMP_MATRIZ_FINAL_2TC_V0', 'LLR_RTMP_PROBA_TABLE_2TC_V0(CODMES', 'LLR_RTMP_PROBA_TABLE_2TC(CODMES', 'LLR_RTMP_PROBA_TABLE_2TC', 'LLR_RTMP_PROBA_TABLE_2TC_V0', 'CRMA_MOD_REP_2TC', 'CRMA_MOD_REP_2TC_1', 'JP_CRMA_TEMP_NBP_P13A', 'JP_CRMA_TEMP_NBP_P13A_01', 'JP_CRMA_TEMP_NBP_P20A', 'JP_CRMA_TEMP_NBP_P21A', 'JP_CRMA_TEMP_NBP_P04A', 'JP_CRMA_TEMP_NBP_P04D', 'JP_CRMA_TEMP_NBP_P04', 'JP_CRMA_TEMP_NBP_P03E', 'JP_CRMA_TEMP_NBP_P03', 'JP_MATRIZ_ADQ_VHE_FINAL']\n",
      "02_Validar_Matriz_ADQ_VEH.sql\n",
      "fuente 116 116 27\n",
      "creados 30 ['LLR_RTMP_MODEL_2TC_V0', 'LLR_RTMP_MODEL_2TC_V0', 'LLR_RTMP_CLIENTE_2TC_V1', 'LLR_RTMP_MODEL_2TC_V1', 'LLR_RTMP_MODEL_2TC_V1', 'LLR_RTMP_MODEL_2TC_V2', 'LLR_RTMP_MODEL_2TC_V3', 'LLR_RTMP_MODEL_2TC_V4', 'LLR_RTMP_MATRIZ_2TC_FINAL', 'LLR_RTMP_PROBA_TABLE_2TC_V0(CODMES', 'LLR_RTMP_PROBA_TABLE_2TC(CODMES', 'LLR_RTMP_PROBA_TABLE_2TC', 'LLR_RTMP_PROBA_TABLE_2TC_V0', 'LLR_RTMP_MATRIZ_FINAL_2TC_V0', 'LLR_RTMP_PROBA_TABLE_2TC_V0(CODMES', 'LLR_RTMP_PROBA_TABLE_2TC(CODMES', 'LLR_RTMP_PROBA_TABLE_2TC', 'LLR_RTMP_PROBA_TABLE_2TC_V0', 'CRMA_MOD_REP_2TC', 'CRMA_MOD_REP_2TC_1', 'JP_CRMA_TEMP_NBP_P13A', 'JP_CRMA_TEMP_NBP_P13A_01', 'JP_CRMA_TEMP_NBP_P20A', 'JP_CRMA_TEMP_NBP_P21A', 'JP_CRMA_TEMP_NBP_P04A', 'JP_CRMA_TEMP_NBP_P04D', 'JP_CRMA_TEMP_NBP_P04', 'JP_CRMA_TEMP_NBP_P03E', 'JP_CRMA_TEMP_NBP_P03', 'JP_MATRIZ_ADQ_VHE_FINAL']\n",
      "03_Score_ADQ_VEH.sql\n",
      "fuente 123 123 33\n",
      "creados 36 ['LLR_RTMP_MODEL_2TC_V0', 'LLR_RTMP_MODEL_2TC_V0', 'LLR_RTMP_CLIENTE_2TC_V1', 'LLR_RTMP_MODEL_2TC_V1', 'LLR_RTMP_MODEL_2TC_V1', 'LLR_RTMP_MODEL_2TC_V2', 'LLR_RTMP_MODEL_2TC_V3', 'LLR_RTMP_MODEL_2TC_V4', 'LLR_RTMP_MATRIZ_2TC_FINAL', 'LLR_RTMP_PROBA_TABLE_2TC_V0(CODMES', 'LLR_RTMP_PROBA_TABLE_2TC(CODMES', 'LLR_RTMP_PROBA_TABLE_2TC', 'LLR_RTMP_PROBA_TABLE_2TC_V0', 'LLR_RTMP_MATRIZ_FINAL_2TC_V0', 'LLR_RTMP_PROBA_TABLE_2TC_V0(CODMES', 'LLR_RTMP_PROBA_TABLE_2TC(CODMES', 'LLR_RTMP_PROBA_TABLE_2TC', 'LLR_RTMP_PROBA_TABLE_2TC_V0', 'CRMA_MOD_REP_2TC', 'CRMA_MOD_REP_2TC_1', 'JP_CRMA_TEMP_NBP_P13A', 'JP_CRMA_TEMP_NBP_P13A_01', 'JP_CRMA_TEMP_NBP_P20A', 'JP_CRMA_TEMP_NBP_P21A', 'JP_CRMA_TEMP_NBP_P04A', 'JP_CRMA_TEMP_NBP_P04D', 'JP_CRMA_TEMP_NBP_P04', 'JP_CRMA_TEMP_NBP_P03E', 'JP_CRMA_TEMP_NBP_P03', 'JP_MATRIZ_ADQ_VHE_FINAL', 'JP_NBP_VEH_V01', 'JP_NBP_VEH_V02', 'JP_NBP_VEH_V03', 'JP_NBP_VEH_V04', 'JP_NBP_VEH_V05', 'CRMA_MOD_REP_VEH_NEW']\n",
      "04_Validar_Score_ADQ_VEH.sql\n",
      "fuente 125 125 33\n",
      "creados 36 ['LLR_RTMP_MODEL_2TC_V0', 'LLR_RTMP_MODEL_2TC_V0', 'LLR_RTMP_CLIENTE_2TC_V1', 'LLR_RTMP_MODEL_2TC_V1', 'LLR_RTMP_MODEL_2TC_V1', 'LLR_RTMP_MODEL_2TC_V2', 'LLR_RTMP_MODEL_2TC_V3', 'LLR_RTMP_MODEL_2TC_V4', 'LLR_RTMP_MATRIZ_2TC_FINAL', 'LLR_RTMP_PROBA_TABLE_2TC_V0(CODMES', 'LLR_RTMP_PROBA_TABLE_2TC(CODMES', 'LLR_RTMP_PROBA_TABLE_2TC', 'LLR_RTMP_PROBA_TABLE_2TC_V0', 'LLR_RTMP_MATRIZ_FINAL_2TC_V0', 'LLR_RTMP_PROBA_TABLE_2TC_V0(CODMES', 'LLR_RTMP_PROBA_TABLE_2TC(CODMES', 'LLR_RTMP_PROBA_TABLE_2TC', 'LLR_RTMP_PROBA_TABLE_2TC_V0', 'CRMA_MOD_REP_2TC', 'CRMA_MOD_REP_2TC_1', 'JP_CRMA_TEMP_NBP_P13A', 'JP_CRMA_TEMP_NBP_P13A_01', 'JP_CRMA_TEMP_NBP_P20A', 'JP_CRMA_TEMP_NBP_P21A', 'JP_CRMA_TEMP_NBP_P04A', 'JP_CRMA_TEMP_NBP_P04D', 'JP_CRMA_TEMP_NBP_P04', 'JP_CRMA_TEMP_NBP_P03E', 'JP_CRMA_TEMP_NBP_P03', 'JP_MATRIZ_ADQ_VHE_FINAL', 'JP_NBP_VEH_V01', 'JP_NBP_VEH_V02', 'JP_NBP_VEH_V03', 'JP_NBP_VEH_V04', 'JP_NBP_VEH_V05', 'CRMA_MOD_REP_VEH_NEW']\n"
     ]
    }
   ],
   "source": [
    "created = []\n",
    "source=[]\n",
    "idx_source=[]\n",
    "idx_created=1\n",
    "inext=0\n",
    "for y_dir in y_dirs[0:2]:\n",
    "    models_path  = dir_models + '/'+y_dir\n",
    "    models_dirs = os.listdir(models_path)\n",
    "    for model_dir in models_dirs:\n",
    "        with open(models_path+ '/'+model_dir, 'r') as dataset:\n",
    "            if model_dir.endswith(\".sql\"):\n",
    "                for i,line in enumerate(dataset):\n",
    "                    line=line.upper()\n",
    "                    if inext==1:\n",
    "                        \n",
    "                        wnext= line.replace(\"\\n\",\"\").strip().split(\" \")\n",
    "                        if \"SELECT\" in line and \"SELECT\" in wnext[0]:\n",
    "                            inext=0\n",
    "                        else:\n",
    "                            idx_source.append(idx_created)\n",
    "                            source.append(wnext[0])   \n",
    "                        \n",
    "                    if \"CREATE\" in line and \"TABLE\" in line:\n",
    "                        w= line.replace(\"\\n\",\"\").strip().split(\" \")                      \n",
    "                        idx_w = w.index('TABLE')\n",
    "                        created.append(w[idx_w+1])\n",
    "                        idx_created+=1\n",
    "                        inext=0\n",
    "                    elif \"FROM\" in line and  \"JOIN\" in line:\n",
    "                        w= line.replace(\"\\n\",\"\").strip().split(\" \")\n",
    "                        idx_from = w.index(\"FROM\")\n",
    "                        idx_join = w.index(\"JOIN\")\n",
    "                                               \n",
    "                        if (len(w)-1 ==idx_join):\n",
    "                            inext = 1\n",
    "                        else:\n",
    "                            inext=0\n",
    "                            if \"SELECT\" not in w[idx_join+1]:\n",
    "                                \n",
    "                                source.append(w[idx_join+1])\n",
    "                                idx_source.append(idx_created)\n",
    "                        \n",
    "                        if \"SELECT\" not in w[idx_from+1]:\n",
    "\n",
    "                            source.append(w[idx_from+1])\n",
    "                            idx_source.append(idx_created)\n",
    "                        \n",
    "\n",
    "                    elif (\"FROM\" in line or  \"JOIN\" in line):\n",
    "                        if \"INTO\" not in line and \"DELETE\" not in line and \"INICIO\" not in line and \"ALL_OBJECTS\" not in line and \"FECJECUCION\" not in line:\n",
    "                            w= line.replace(\"\\n\",\"\").strip().split(\" \")\n",
    "                            if \"FROM\" in line: \n",
    "                                idx_w=w.index(\"FROM\")\n",
    "                            else:\n",
    "                                idx_w=w.index(\"JOIN\")\n",
    "                            if idx_w==len(w)-1:\n",
    "                                inext=1\n",
    "                            else:\n",
    "                                if \"SELECT\" not in w[idx_w+1]:\n",
    "                                    idx_source.append(idx_created)\n",
    "                                    source.append(w[idx_w+1])\n",
    "                                    inext=0\n",
    "                            \n",
    "                print(model_dir)\n",
    "                print(\"fuente\", len(source),len(idx_source), len(pd.unique(idx_source)))\n",
    "                print(\"creados\", len(created), created)\n",
    "                    \n",
    "            elif  model_dir.endswith(\".R\"):\n",
    "                flg_r=1"
   ]
  },
  {
   "cell_type": "code",
   "execution_count": null,
   "metadata": {
    "collapsed": true
   },
   "outputs": [],
   "source": []
  }
 ],
 "metadata": {
  "kernelspec": {
   "display_name": "Python 3",
   "language": "python",
   "name": "python3"
  },
  "language_info": {
   "codemirror_mode": {
    "name": "ipython",
    "version": 3
   },
   "file_extension": ".py",
   "mimetype": "text/x-python",
   "name": "python",
   "nbconvert_exporter": "python",
   "pygments_lexer": "ipython3",
   "version": "3.6.0"
  }
 },
 "nbformat": 4,
 "nbformat_minor": 2
}
